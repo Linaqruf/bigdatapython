{
  "nbformat": 4,
  "nbformat_minor": 0,
  "metadata": {
    "colab": {
      "name": "Big Data Pertemuan 9.ipynb",
      "provenance": [],
      "collapsed_sections": [],
      "include_colab_link": true
    },
    "kernelspec": {
      "name": "python3",
      "display_name": "Python 3"
    },
    "language_info": {
      "name": "python"
    }
  },
  "cells": [
    {
      "cell_type": "markdown",
      "metadata": {
        "id": "view-in-github",
        "colab_type": "text"
      },
      "source": [
        "<a href=\"https://colab.research.google.com/github/Linaqruf/bigdatapython/blob/main/Big_Data_Pertemuan_9.ipynb\" target=\"_parent\"><img src=\"https://colab.research.google.com/assets/colab-badge.svg\" alt=\"Open In Colab\"/></a>"
      ]
    },
    {
      "cell_type": "markdown",
      "metadata": {
        "id": "yZmqe8h11xcz"
      },
      "source": [
        "---\n",
        "\n",
        "\n",
        "Nama : Furqanil Taqwa\n",
        "\n",
        "NIM  : 1711522013\n",
        "\n",
        "BIG DATA TUGAS PERTEMUAN 9\n",
        "\n",
        "\n",
        "---"
      ]
    },
    {
      "cell_type": "markdown",
      "metadata": {
        "id": "YrtvsDAe15OU"
      },
      "source": [
        "# IPython Magic Commands"
      ]
    },
    {
      "cell_type": "markdown",
      "metadata": {
        "id": "gSBgqC8ow-Kw"
      },
      "source": [
        "**Pasting Code Blocks: %paste and %cpaste**"
      ]
    },
    {
      "cell_type": "code",
      "metadata": {
        "id": "tmvH95FjvuHZ"
      },
      "source": [
        "def donothing(x):\n",
        "    return x"
      ],
      "execution_count": 13,
      "outputs": []
    },
    {
      "cell_type": "markdown",
      "metadata": {
        "id": "iencwhB1xRIf"
      },
      "source": [
        "Saat bekerja di interpreter IPython, satu masalah umum adalah aktivitas paste blok kode multi-baris dapat menyebabkan kesalahan yang tidak terduga, terutama ketika penanda indentasi dan interpreter terlibat. Kasus yang umum terjadi adalah Anda menemukan beberapa kode contoh di situs web dan ingin menempelkannya ke penerjemah Anda. Pertimbangkan fungsi sederhana berikut:"
      ]
    },
    {
      "cell_type": "code",
      "metadata": {
        "colab": {
          "base_uri": "https://localhost:8080/",
          "height": 129
        },
        "id": "LALnn2emwBKs",
        "outputId": "30f26efd-ea36-4b4f-99dc-cf2206ca25bd"
      },
      "source": [
        ">>> def donothing(x):\n",
        " ... return x"
      ],
      "execution_count": 14,
      "outputs": [
        {
          "output_type": "error",
          "ename": "SyntaxError",
          "evalue": "ignored",
          "traceback": [
            "\u001b[0;36m  File \u001b[0;32m\"<ipython-input-14-da6cfc2740fd>\"\u001b[0;36m, line \u001b[0;32m2\u001b[0m\n\u001b[0;31m    ... return x\u001b[0m\n\u001b[0m             ^\u001b[0m\n\u001b[0;31mSyntaxError\u001b[0m\u001b[0;31m:\u001b[0m invalid syntax\n"
          ]
        }
      ]
    },
    {
      "cell_type": "markdown",
      "metadata": {
        "id": "gS8sUpXhwsex"
      },
      "source": [
        "Ketika melakukan paste, Interpreter bingung dengan karakter prompt tambahan. Tapi jangan takut – fungs i%paste magic IPython dirancang untuk menangani jenis input multi-baris yang diberi markup:"
      ]
    },
    {
      "cell_type": "code",
      "metadata": {
        "id": "YyqlyFQKwJzI",
        "colab": {
          "base_uri": "https://localhost:8080/"
        },
        "outputId": "afaf1692-1af6-43ab-dfe8-31d517767f8d"
      },
      "source": [
        "%paste\n",
        "def donothing(x):\n",
        "    return x"
      ],
      "execution_count": 16,
      "outputs": [
        {
          "output_type": "stream",
          "text": [
            "Object `%paste` not found.\n"
          ],
          "name": "stdout"
        }
      ]
    },
    {
      "cell_type": "markdown",
      "metadata": {
        "id": "hf4WRShnx7Ak"
      },
      "source": [
        "Perintah %paste masuk dan menjalankan kode, jadi sekarang fungsinya siap digunakan:"
      ]
    },
    {
      "cell_type": "code",
      "metadata": {
        "colab": {
          "base_uri": "https://localhost:8080/"
        },
        "id": "Yf-TUxPhwbXp",
        "outputId": "dab63119-1001-458d-b3f4-0e449dee163e"
      },
      "source": [
        "donothing(10)"
      ],
      "execution_count": 17,
      "outputs": [
        {
          "output_type": "execute_result",
          "data": {
            "text/plain": [
              "10"
            ]
          },
          "metadata": {
            "tags": []
          },
          "execution_count": 17
        }
      ]
    },
    {
      "cell_type": "markdown",
      "metadata": {
        "id": "B1OXK1IGyseW"
      },
      "source": [
        "Sama halnya dengan %cpaste, yang membuka prompt multiline interaktif di mana Anda dapat menempelkan satu atau beberapa potongan kode untuk dieksekusi dalam satu batch:"
      ]
    },
    {
      "cell_type": "code",
      "metadata": {
        "id": "IPmjAL4Ty1Gx",
        "colab": {
          "base_uri": "https://localhost:8080/"
        },
        "outputId": "d64872d0-fe63-4fa2-ee3a-358cecde8004"
      },
      "source": [
        "%cpaste\n",
        "def donothing(x):\n",
        "  return x\n"
      ],
      "execution_count": 18,
      "outputs": [
        {
          "output_type": "stream",
          "text": [
            "UsageError: Line magic function `%cpaste` not found.\n"
          ],
          "name": "stderr"
        }
      ]
    },
    {
      "cell_type": "markdown",
      "metadata": {
        "id": "wePLQMsW3cAg"
      },
      "source": [
        "**Running External Code: %run**"
      ]
    },
    {
      "cell_type": "markdown",
      "metadata": {
        "id": "l31g-exDzlyG"
      },
      "source": [
        "Daripada menjalankan kode ini di jendela baru, akan lebih mudah untuk menjalankannya dalam sesi IPython Anda. Ini dapat dilakukan dengan perintah %run."
      ]
    },
    {
      "cell_type": "code",
      "metadata": {
        "colab": {
          "base_uri": "https://localhost:8080/"
        },
        "id": "BMW-eoNF0kBe",
        "outputId": "18f8b23f-1c02-4c34-bce6-45a3d2bde813"
      },
      "source": [
        "#-------------------------------------\n",
        "# file: myscript.py\n",
        "\n",
        "def square(x):\n",
        "    \"\"\"square a number\"\"\"\n",
        "    return x ** 2\n",
        "for N in range(1, 4):\n",
        "    print(N, \"squared is\", square(N))"
      ],
      "execution_count": 19,
      "outputs": [
        {
          "output_type": "stream",
          "text": [
            "1 squared is 1\n",
            "2 squared is 4\n",
            "3 squared is 9\n"
          ],
          "name": "stdout"
        }
      ]
    },
    {
      "cell_type": "markdown",
      "metadata": {
        "id": "gPguqCPe2By8"
      },
      "source": [
        "Anda dapat menjalankan ini dari sesi IPython Anda sebagai berikut:"
      ]
    },
    {
      "cell_type": "code",
      "metadata": {
        "colab": {
          "base_uri": "https://localhost:8080/"
        },
        "id": "eIhYAhAD1C5v",
        "outputId": "fc592337-939a-40c7-fd46-a508d81823e0"
      },
      "source": [
        "%run myscript.py\n",
        "square(5)"
      ],
      "execution_count": 20,
      "outputs": [
        {
          "output_type": "stream",
          "text": [
            "ERROR:root:File `'myscript.py'` not found.\n"
          ],
          "name": "stderr"
        },
        {
          "output_type": "execute_result",
          "data": {
            "text/plain": [
              "25"
            ]
          },
          "metadata": {
            "tags": []
          },
          "execution_count": 20
        }
      ]
    },
    {
      "cell_type": "markdown",
      "metadata": {
        "id": "HANpYJx23-xY"
      },
      "source": [
        "**Timing Code Execution: %timeit**"
      ]
    },
    {
      "cell_type": "markdown",
      "metadata": {
        "id": "s5ziM1Pc2S2c"
      },
      "source": [
        "Manfaat dari %timeit adalah untuk perintah pendek, ia akan secara otomatis menjalankan beberapa proses untuk mendapatkan hasil yang lebih baik.\n"
      ]
    },
    {
      "cell_type": "code",
      "metadata": {
        "colab": {
          "base_uri": "https://localhost:8080/"
        },
        "id": "3w5oUTTj2vDQ",
        "outputId": "3271110a-e524-4138-ca9a-fc0f938e187f"
      },
      "source": [
        "%timeit L = [n ** 2 for n in range(1000)]"
      ],
      "execution_count": 21,
      "outputs": [
        {
          "output_type": "stream",
          "text": [
            "1000 loops, best of 5: 269 µs per loop\n"
          ],
          "name": "stdout"
        }
      ]
    },
    {
      "cell_type": "markdown",
      "metadata": {
        "id": "Eh11e-uV3aJg"
      },
      "source": [
        "Untuk pernyataan multi baris, menambahkan tanda% kedua akan mengubahnya menjadi keajaiban sel yang dapat menangani beberapa baris input. Misalnya, berikut konstruksi yang setara dengan for-loop:"
      ]
    },
    {
      "cell_type": "code",
      "metadata": {
        "colab": {
          "base_uri": "https://localhost:8080/"
        },
        "id": "kt_ICWiP3kqP",
        "outputId": "e42de787-b3f6-48bc-bf41-916f4cc4a468"
      },
      "source": [
        "%%timeit\n",
        "L = []\n",
        "for n in range(1000):\n",
        "    L.append(n ** 2)"
      ],
      "execution_count": 22,
      "outputs": [
        {
          "output_type": "stream",
          "text": [
            "1000 loops, best of 5: 312 µs per loop\n"
          ],
          "name": "stdout"
        }
      ]
    },
    {
      "cell_type": "markdown",
      "metadata": {
        "id": "K4hEIgzh4Z7v"
      },
      "source": [
        "**Help on Magic Functions: ?, %magic, and %lsmagic**"
      ]
    },
    {
      "cell_type": "markdown",
      "metadata": {
        "id": "gVqqbdkf4gfX"
      },
      "source": [
        "Seperti fungsi Python normal, fungsi magic IPython memiliki dokumen, dan dokumentasi yang berguna ini dapat diakses dengan cara standar."
      ]
    },
    {
      "cell_type": "code",
      "metadata": {
        "id": "_qdLhET339pV"
      },
      "source": [
        "%timeit?"
      ],
      "execution_count": 23,
      "outputs": []
    },
    {
      "cell_type": "code",
      "metadata": {
        "id": "2ESGcJE84bnL"
      },
      "source": [
        "%magic"
      ],
      "execution_count": 24,
      "outputs": []
    },
    {
      "cell_type": "code",
      "metadata": {
        "colab": {
          "base_uri": "https://localhost:8080/",
          "height": 156
        },
        "id": "x54-_yND41-u",
        "outputId": "c6d209e1-8025-4135-d8cb-1d64b322206f"
      },
      "source": [
        "%lsmagic"
      ],
      "execution_count": 25,
      "outputs": [
        {
          "output_type": "execute_result",
          "data": {
            "application/json": {
              "cell": {
                "prun": "ExecutionMagics",
                "file": "Other",
                "!": "OSMagics",
                "capture": "ExecutionMagics",
                "timeit": "ExecutionMagics",
                "script": "ScriptMagics",
                "pypy": "Other",
                "system": "OSMagics",
                "perl": "Other",
                "html": "DisplayMagics",
                "bash": "Other",
                "shell": "Other",
                "HTML": "Other",
                "python": "Other",
                "SVG": "Other",
                "javascript": "DisplayMagics",
                "bigquery": "Other",
                "js": "DisplayMagics",
                "writefile": "OSMagics",
                "ruby": "Other",
                "python3": "Other",
                "python2": "Other",
                "latex": "DisplayMagics",
                "sx": "OSMagics",
                "svg": "DisplayMagics",
                "sh": "Other",
                "time": "ExecutionMagics",
                "debug": "ExecutionMagics"
              },
              "line": {
                "psource": "NamespaceMagics",
                "logstart": "LoggingMagics",
                "popd": "OSMagics",
                "tensorflow_version": "Other",
                "loadpy": "CodeMagics",
                "colors": "BasicMagics",
                "who_ls": "NamespaceMagics",
                "lf": "Other",
                "ll": "Other",
                "pprint": "BasicMagics",
                "lk": "Other",
                "ls": "Other",
                "save": "CodeMagics",
                "tb": "ExecutionMagics",
                "lx": "Other",
                "pylab": "PylabMagics",
                "killbgscripts": "ScriptMagics",
                "quickref": "BasicMagics",
                "magic": "BasicMagics",
                "dhist": "OSMagics",
                "edit": "KernelMagics",
                "logstop": "LoggingMagics",
                "gui": "BasicMagics",
                "prun": "ExecutionMagics",
                "debug": "ExecutionMagics",
                "page": "BasicMagics",
                "logstate": "LoggingMagics",
                "ed": "Other",
                "pushd": "OSMagics",
                "timeit": "ExecutionMagics",
                "set_env": "OSMagics",
                "rehashx": "OSMagics",
                "hist": "Other",
                "qtconsole": "KernelMagics",
                "rm": "Other",
                "dirs": "OSMagics",
                "run": "ExecutionMagics",
                "reset_selective": "NamespaceMagics",
                "pinfo2": "NamespaceMagics",
                "matplotlib": "PylabMagics",
                "unload_ext": "ExtensionMagics",
                "doctest_mode": "BasicMagics",
                "logoff": "LoggingMagics",
                "reload_ext": "ExtensionMagics",
                "pdb": "ExecutionMagics",
                "load": "CodeMagics",
                "lsmagic": "BasicMagics",
                "autosave": "KernelMagics",
                "cd": "OSMagics",
                "pastebin": "CodeMagics",
                "alias_magic": "BasicMagics",
                "cp": "Other",
                "autocall": "AutoMagics",
                "ldir": "Other",
                "bookmark": "OSMagics",
                "connect_info": "KernelMagics",
                "mkdir": "Other",
                "system": "OSMagics",
                "whos": "NamespaceMagics",
                "rmdir": "Other",
                "automagic": "AutoMagics",
                "store": "StoreMagics",
                "more": "KernelMagics",
                "shell": "Other",
                "pdef": "NamespaceMagics",
                "precision": "BasicMagics",
                "pinfo": "NamespaceMagics",
                "pwd": "OSMagics",
                "psearch": "NamespaceMagics",
                "reset": "NamespaceMagics",
                "recall": "HistoryMagics",
                "xdel": "NamespaceMagics",
                "xmode": "BasicMagics",
                "cat": "Other",
                "mv": "Other",
                "rerun": "HistoryMagics",
                "logon": "LoggingMagics",
                "history": "HistoryMagics",
                "pycat": "OSMagics",
                "pip": "Other",
                "unalias": "OSMagics",
                "env": "OSMagics",
                "load_ext": "ExtensionMagics",
                "config": "ConfigMagics",
                "profile": "BasicMagics",
                "pfile": "NamespaceMagics",
                "less": "KernelMagics",
                "who": "NamespaceMagics",
                "notebook": "BasicMagics",
                "man": "KernelMagics",
                "sx": "OSMagics",
                "macro": "ExecutionMagics",
                "clear": "KernelMagics",
                "alias": "OSMagics",
                "time": "ExecutionMagics",
                "sc": "OSMagics",
                "rep": "Other",
                "pdoc": "NamespaceMagics"
              }
            },
            "text/plain": [
              "Available line magics:\n",
              "%alias  %alias_magic  %autocall  %automagic  %autosave  %bookmark  %cat  %cd  %clear  %colors  %config  %connect_info  %cp  %debug  %dhist  %dirs  %doctest_mode  %ed  %edit  %env  %gui  %hist  %history  %killbgscripts  %ldir  %less  %lf  %lk  %ll  %load  %load_ext  %loadpy  %logoff  %logon  %logstart  %logstate  %logstop  %ls  %lsmagic  %lx  %macro  %magic  %man  %matplotlib  %mkdir  %more  %mv  %notebook  %page  %pastebin  %pdb  %pdef  %pdoc  %pfile  %pinfo  %pinfo2  %pip  %popd  %pprint  %precision  %profile  %prun  %psearch  %psource  %pushd  %pwd  %pycat  %pylab  %qtconsole  %quickref  %recall  %rehashx  %reload_ext  %rep  %rerun  %reset  %reset_selective  %rm  %rmdir  %run  %save  %sc  %set_env  %shell  %store  %sx  %system  %tb  %tensorflow_version  %time  %timeit  %unalias  %unload_ext  %who  %who_ls  %whos  %xdel  %xmode\n",
              "\n",
              "Available cell magics:\n",
              "%%!  %%HTML  %%SVG  %%bash  %%bigquery  %%capture  %%debug  %%file  %%html  %%javascript  %%js  %%latex  %%perl  %%prun  %%pypy  %%python  %%python2  %%python3  %%ruby  %%script  %%sh  %%shell  %%svg  %%sx  %%system  %%time  %%timeit  %%writefile\n",
              "\n",
              "Automagic is ON, % prefix IS NOT needed for line magics."
            ]
          },
          "metadata": {
            "tags": []
          },
          "execution_count": 25
        }
      ]
    },
    {
      "cell_type": "markdown",
      "metadata": {
        "id": "Oj1rlTVY4xWl"
      },
      "source": [
        "# Input and Output History"
      ]
    },
    {
      "cell_type": "markdown",
      "metadata": {
        "id": "zfIEg5J_5Mvl"
      },
      "source": [
        "1. Objek Masuk dan Keluar IPython"
      ]
    },
    {
      "cell_type": "code",
      "metadata": {
        "id": "jB_EjQtc6Q14"
      },
      "source": [
        "import math"
      ],
      "execution_count": 26,
      "outputs": []
    },
    {
      "cell_type": "code",
      "metadata": {
        "colab": {
          "base_uri": "https://localhost:8080/"
        },
        "id": "xdNWJWmx6Tsp",
        "outputId": "170d53c8-0b62-4d38-9506-b99095811a2d"
      },
      "source": [
        "math.sin(2)"
      ],
      "execution_count": 27,
      "outputs": [
        {
          "output_type": "execute_result",
          "data": {
            "text/plain": [
              "0.9092974268256817"
            ]
          },
          "metadata": {
            "tags": []
          },
          "execution_count": 27
        }
      ]
    },
    {
      "cell_type": "code",
      "metadata": {
        "colab": {
          "base_uri": "https://localhost:8080/"
        },
        "id": "u-T9B5jV6Xot",
        "outputId": "12e63f83-4866-4227-8d33-15a22c925eaf"
      },
      "source": [
        "math.cos(2)"
      ],
      "execution_count": 28,
      "outputs": [
        {
          "output_type": "execute_result",
          "data": {
            "text/plain": [
              "-0.4161468365471424"
            ]
          },
          "metadata": {
            "tags": []
          },
          "execution_count": 28
        }
      ]
    },
    {
      "cell_type": "markdown",
      "metadata": {
        "id": "zko5dlZK6eZR"
      },
      "source": [
        "Kita telah mengimpor paket matematika bawaan, lalu menghitung sinus dan kosinus dari angka 2. Input dan output ini ditampilkan di shell dengan label in / out, tetapi masih ada lagi – IPython sebenarnya membuat beberapa variabel Python yang disebut In dan out yang secara otomatis diperbarui untuk mencerminkan riwayat ini:"
      ]
    },
    {
      "cell_type": "code",
      "metadata": {
        "colab": {
          "base_uri": "https://localhost:8080/"
        },
        "id": "tvWcoemJ6tLw",
        "outputId": "fd8761f1-b8eb-4acb-8a5f-6c20b3db1be6"
      },
      "source": [
        "print(In)"
      ],
      "execution_count": 29,
      "outputs": [
        {
          "output_type": "stream",
          "text": [
            "['', \"get_ipython().magic('cpaste')\\ndef donothing(x):\\n  return x\", \"get_ipython().magic('pinfo %timeit')\", \"get_ipython().magic('magic')\", 'print(In)', 'karena fungsi diatas hasilnya dihitung secara diam-diam, dan hasilnya tidak ditampilkan di\\nlayar atau disimpan dalam kamus Keluar, maka :', 'def donothing(x):\\n    return x', 'def donothing(x):\\n ... return x', \"get_ipython().magic('paste')\\ndef donothing(x):\\n    return x\", 'def donothing(x):\\n    return x', 'def donothing(x):\\n ... return x', \"get_ipython().magic('paste')\\ndef donothing(x):\\n    return x\", 'donothing(10)', 'def donothing(x):\\n    return x', 'def donothing(x):\\n ... return x', \"get_ipython().magic('paste')\\ndef donothing(x):\\n    return x\", \"get_ipython().magic('pinfo %paste')\\ndef donothing(x):\\n    return x\", 'donothing(10)', \"get_ipython().magic('cpaste')\\ndef donothing(x):\\n  return x\", '#-------------------------------------\\n# file: myscript.py\\n\\ndef square(x):\\n    \"\"\"square a number\"\"\"\\n    return x ** 2\\nfor N in range(1, 4):\\n    print(N, \"squared is\", square(N))', \"get_ipython().magic('run myscript.py')\\nsquare(5)\", \"get_ipython().magic('timeit L = [n ** 2 for n in range(1000)]')\", \"get_ipython().run_cell_magic('timeit', '', 'L = []\\\\nfor n in range(1000):\\\\n    L.append(n ** 2)')\", \"get_ipython().magic('pinfo %timeit')\", \"get_ipython().magic('magic')\", \"get_ipython().magic('lsmagic')\", 'import math', 'math.sin(2)', 'math.cos(2)', 'print(In)']\n"
          ],
          "name": "stdout"
        }
      ]
    },
    {
      "cell_type": "code",
      "metadata": {
        "colab": {
          "base_uri": "https://localhost:8080/"
        },
        "id": "0CnIuI6L7H83",
        "outputId": "18406209-255d-4a02-beb4-3e24179acb26"
      },
      "source": [
        "Out"
      ],
      "execution_count": 30,
      "outputs": [
        {
          "output_type": "execute_result",
          "data": {
            "text/plain": [
              "{12: 10,\n",
              " 17: 10,\n",
              " 20: 25,\n",
              " 25: Available line magics:\n",
              "%alias  %alias_magic  %autocall  %automagic  %autosave  %bookmark  %cat  %cd  %clear  %colors  %config  %connect_info  %cp  %debug  %dhist  %dirs  %doctest_mode  %ed  %edit  %env  %gui  %hist  %history  %killbgscripts  %ldir  %less  %lf  %lk  %ll  %load  %load_ext  %loadpy  %logoff  %logon  %logstart  %logstate  %logstop  %ls  %lsmagic  %lx  %macro  %magic  %man  %matplotlib  %mkdir  %more  %mv  %notebook  %page  %pastebin  %pdb  %pdef  %pdoc  %pfile  %pinfo  %pinfo2  %pip  %popd  %pprint  %precision  %profile  %prun  %psearch  %psource  %pushd  %pwd  %pycat  %pylab  %qtconsole  %quickref  %recall  %rehashx  %reload_ext  %rep  %rerun  %reset  %reset_selective  %rm  %rmdir  %run  %save  %sc  %set_env  %shell  %store  %sx  %system  %tb  %tensorflow_version  %time  %timeit  %unalias  %unload_ext  %who  %who_ls  %whos  %xdel  %xmode\n",
              "\n",
              "Available cell magics:\n",
              "%%!  %%HTML  %%SVG  %%bash  %%bigquery  %%capture  %%debug  %%file  %%html  %%javascript  %%js  %%latex  %%perl  %%prun  %%pypy  %%python  %%python2  %%python3  %%ruby  %%script  %%sh  %%shell  %%svg  %%sx  %%system  %%time  %%timeit  %%writefile\n",
              "\n",
              "Automagic is ON, % prefix IS NOT needed for line magics.,\n",
              " 27: 0.9092974268256817,\n",
              " 28: -0.4161468365471424}"
            ]
          },
          "metadata": {
            "tags": []
          },
          "execution_count": 30
        }
      ]
    },
    {
      "cell_type": "markdown",
      "metadata": {
        "id": "2G5Mbdaf7_Ct"
      },
      "source": [
        "In yang telah didefinisikan, contoh"
      ]
    },
    {
      "cell_type": "code",
      "metadata": {
        "colab": {
          "base_uri": "https://localhost:8080/"
        },
        "id": "Jbr_DcrM8DhD",
        "outputId": "d4b13820-1fac-43c2-a424-338556891ea1"
      },
      "source": [
        "print(In[25])"
      ],
      "execution_count": 31,
      "outputs": [
        {
          "output_type": "stream",
          "text": [
            "get_ipython().magic('lsmagic')\n"
          ],
          "name": "stdout"
        }
      ]
    },
    {
      "cell_type": "code",
      "metadata": {
        "colab": {
          "base_uri": "https://localhost:8080/"
        },
        "id": "gVdiV9Jn8h8d",
        "outputId": "6068386a-bcf4-4bf2-e55a-4b88f23e2e6d"
      },
      "source": [
        "print(Out[25])"
      ],
      "execution_count": 34,
      "outputs": [
        {
          "output_type": "stream",
          "text": [
            "Available line magics:\n",
            "%alias  %alias_magic  %autocall  %automagic  %autosave  %bookmark  %cat  %cd  %clear  %colors  %config  %connect_info  %cp  %debug  %dhist  %dirs  %doctest_mode  %ed  %edit  %env  %gui  %hist  %history  %killbgscripts  %ldir  %less  %lf  %lk  %ll  %load  %load_ext  %loadpy  %logoff  %logon  %logstart  %logstate  %logstop  %ls  %lsmagic  %lx  %macro  %magic  %man  %matplotlib  %mkdir  %more  %mv  %notebook  %page  %pastebin  %pdb  %pdef  %pdoc  %pfile  %pinfo  %pinfo2  %pip  %popd  %pprint  %precision  %profile  %prun  %psearch  %psource  %pushd  %pwd  %pycat  %pylab  %qtconsole  %quickref  %recall  %rehashx  %reload_ext  %rep  %rerun  %reset  %reset_selective  %rm  %rmdir  %run  %save  %sc  %set_env  %shell  %store  %sx  %system  %tb  %tensorflow_version  %time  %timeit  %unalias  %unload_ext  %who  %who_ls  %whos  %xdel  %xmode\n",
            "\n",
            "Available cell magics:\n",
            "%%!  %%HTML  %%SVG  %%bash  %%bigquery  %%capture  %%debug  %%file  %%html  %%javascript  %%js  %%latex  %%perl  %%prun  %%pypy  %%python  %%python2  %%python3  %%ruby  %%script  %%sh  %%shell  %%svg  %%sx  %%system  %%time  %%timeit  %%writefile\n",
            "\n",
            "Automagic is ON, % prefix IS NOT needed for line magics.\n"
          ],
          "name": "stdout"
        }
      ]
    },
    {
      "cell_type": "markdown",
      "metadata": {
        "id": "diPG8nT19J1V"
      },
      "source": [
        "Hanya saja tidak semua operasi memiliki keluaran: misalnya, pernyataan impor dan pernyataan cetak tidak memengaruhi keluaran. \n",
        "Manfaat lainnya kita bisa berinteraksi dengan hasil sebelumnya. contoh :"
      ]
    },
    {
      "cell_type": "code",
      "metadata": {
        "colab": {
          "base_uri": "https://localhost:8080/",
          "height": 163
        },
        "id": "yCMEIHmp9ehA",
        "outputId": "74c7da10-cfdc-495d-cf20-c21176b05ea2"
      },
      "source": [
        "Out[26] ** 2 + Out[27] ** 2"
      ],
      "execution_count": 36,
      "outputs": [
        {
          "output_type": "error",
          "ename": "TypeError",
          "evalue": "ignored",
          "traceback": [
            "\u001b[0;31m---------------------------------------------------------------------------\u001b[0m",
            "\u001b[0;31mTypeError\u001b[0m                                 Traceback (most recent call last)",
            "\u001b[0;32m<ipython-input-36-cb8419caea55>\u001b[0m in \u001b[0;36m<module>\u001b[0;34m()\u001b[0m\n\u001b[0;32m----> 1\u001b[0;31m \u001b[0mOut\u001b[0m\u001b[0;34m[\u001b[0m\u001b[0;36m25\u001b[0m\u001b[0;34m]\u001b[0m \u001b[0;34m**\u001b[0m \u001b[0;36m2\u001b[0m \u001b[0;34m+\u001b[0m \u001b[0mOut\u001b[0m\u001b[0;34m[\u001b[0m\u001b[0;36m27\u001b[0m\u001b[0;34m]\u001b[0m \u001b[0;34m**\u001b[0m \u001b[0;36m2\u001b[0m\u001b[0;34m\u001b[0m\u001b[0;34m\u001b[0m\u001b[0m\n\u001b[0m",
            "\u001b[0;31mTypeError\u001b[0m: unsupported operand type(s) for ** or pow(): 'MagicsDisplay' and 'int'"
          ]
        }
      ]
    },
    {
      "cell_type": "markdown",
      "metadata": {
        "id": "arOHTfOu6ONf"
      },
      "source": [
        "2. Underscore Shortcuts and Previous Outputs"
      ]
    },
    {
      "cell_type": "markdown",
      "metadata": {
        "id": "pC9t60PP9qFT"
      },
      "source": [
        "Shell Python standar berisi hanya satu pintasan sederhana untuk mengakses keluaran sebelumnya; variabel _ (yaitu, garis bawah tunggal) terus diperbarui dengan keluaran sebelumnya; ini berfungsi di IPython juga:"
      ]
    },
    {
      "cell_type": "code",
      "metadata": {
        "colab": {
          "base_uri": "https://localhost:8080/"
        },
        "id": "GqUN9kR999ki",
        "outputId": "15823802-537d-4d37-955d-dd955e2c1abb"
      },
      "source": [
        "print(_)"
      ],
      "execution_count": 37,
      "outputs": [
        {
          "output_type": "stream",
          "text": [
            "-0.4161468365471424\n"
          ],
          "name": "stdout"
        }
      ]
    },
    {
      "cell_type": "code",
      "metadata": {
        "colab": {
          "base_uri": "https://localhost:8080/"
        },
        "id": "6evfTtt9-Cr-",
        "outputId": "6313d260-9fe8-4f12-84cd-7acd864c9447"
      },
      "source": [
        "print(__)"
      ],
      "execution_count": 38,
      "outputs": [
        {
          "output_type": "stream",
          "text": [
            "0.9092974268256817\n"
          ],
          "name": "stdout"
        }
      ]
    },
    {
      "cell_type": "markdown",
      "metadata": {
        "id": "XEhPkI3g-bLb"
      },
      "source": [
        "Tetapi IPython mengambil ini sedikit lebih jauh — Anda dapat menggunakan garis bawah ganda untuk mengakses keluaran kedua-ke-terakhir, dan garis bawah tiga untuk mengakses keluaran ketiga-ke-terakhir (melompati perintah apa pun tanpa keluaran):"
      ]
    },
    {
      "cell_type": "code",
      "metadata": {
        "colab": {
          "base_uri": "https://localhost:8080/",
          "height": 156
        },
        "id": "scbFg3lI-vO7",
        "outputId": "66623528-1ce8-49c4-8a76-cab5be7f4f51"
      },
      "source": [
        "Out[25]"
      ],
      "execution_count": 41,
      "outputs": [
        {
          "output_type": "execute_result",
          "data": {
            "application/json": {
              "cell": {
                "prun": "ExecutionMagics",
                "file": "Other",
                "!": "OSMagics",
                "capture": "ExecutionMagics",
                "timeit": "ExecutionMagics",
                "script": "ScriptMagics",
                "pypy": "Other",
                "system": "OSMagics",
                "perl": "Other",
                "html": "DisplayMagics",
                "bash": "Other",
                "shell": "Other",
                "HTML": "Other",
                "python": "Other",
                "SVG": "Other",
                "javascript": "DisplayMagics",
                "bigquery": "Other",
                "js": "DisplayMagics",
                "writefile": "OSMagics",
                "ruby": "Other",
                "python3": "Other",
                "python2": "Other",
                "latex": "DisplayMagics",
                "sx": "OSMagics",
                "svg": "DisplayMagics",
                "sh": "Other",
                "time": "ExecutionMagics",
                "debug": "ExecutionMagics"
              },
              "line": {
                "psource": "NamespaceMagics",
                "logstart": "LoggingMagics",
                "popd": "OSMagics",
                "tensorflow_version": "Other",
                "loadpy": "CodeMagics",
                "colors": "BasicMagics",
                "who_ls": "NamespaceMagics",
                "lf": "Other",
                "ll": "Other",
                "pprint": "BasicMagics",
                "lk": "Other",
                "ls": "Other",
                "save": "CodeMagics",
                "tb": "ExecutionMagics",
                "lx": "Other",
                "pylab": "PylabMagics",
                "killbgscripts": "ScriptMagics",
                "quickref": "BasicMagics",
                "magic": "BasicMagics",
                "dhist": "OSMagics",
                "edit": "KernelMagics",
                "logstop": "LoggingMagics",
                "gui": "BasicMagics",
                "prun": "ExecutionMagics",
                "debug": "ExecutionMagics",
                "page": "BasicMagics",
                "logstate": "LoggingMagics",
                "ed": "Other",
                "pushd": "OSMagics",
                "timeit": "ExecutionMagics",
                "set_env": "OSMagics",
                "rehashx": "OSMagics",
                "hist": "Other",
                "qtconsole": "KernelMagics",
                "rm": "Other",
                "dirs": "OSMagics",
                "run": "ExecutionMagics",
                "reset_selective": "NamespaceMagics",
                "pinfo2": "NamespaceMagics",
                "matplotlib": "PylabMagics",
                "unload_ext": "ExtensionMagics",
                "doctest_mode": "BasicMagics",
                "logoff": "LoggingMagics",
                "reload_ext": "ExtensionMagics",
                "pdb": "ExecutionMagics",
                "load": "CodeMagics",
                "lsmagic": "BasicMagics",
                "autosave": "KernelMagics",
                "cd": "OSMagics",
                "pastebin": "CodeMagics",
                "alias_magic": "BasicMagics",
                "cp": "Other",
                "autocall": "AutoMagics",
                "ldir": "Other",
                "bookmark": "OSMagics",
                "connect_info": "KernelMagics",
                "mkdir": "Other",
                "system": "OSMagics",
                "whos": "NamespaceMagics",
                "rmdir": "Other",
                "automagic": "AutoMagics",
                "store": "StoreMagics",
                "more": "KernelMagics",
                "shell": "Other",
                "pdef": "NamespaceMagics",
                "precision": "BasicMagics",
                "pinfo": "NamespaceMagics",
                "pwd": "OSMagics",
                "psearch": "NamespaceMagics",
                "reset": "NamespaceMagics",
                "recall": "HistoryMagics",
                "xdel": "NamespaceMagics",
                "xmode": "BasicMagics",
                "cat": "Other",
                "mv": "Other",
                "rerun": "HistoryMagics",
                "logon": "LoggingMagics",
                "history": "HistoryMagics",
                "pycat": "OSMagics",
                "pip": "Other",
                "unalias": "OSMagics",
                "env": "OSMagics",
                "load_ext": "ExtensionMagics",
                "config": "ConfigMagics",
                "profile": "BasicMagics",
                "pfile": "NamespaceMagics",
                "less": "KernelMagics",
                "who": "NamespaceMagics",
                "notebook": "BasicMagics",
                "man": "KernelMagics",
                "sx": "OSMagics",
                "macro": "ExecutionMagics",
                "clear": "KernelMagics",
                "alias": "OSMagics",
                "time": "ExecutionMagics",
                "sc": "OSMagics",
                "rep": "Other",
                "pdoc": "NamespaceMagics"
              }
            },
            "text/plain": [
              "Available line magics:\n",
              "%alias  %alias_magic  %autocall  %automagic  %autosave  %bookmark  %cat  %cd  %clear  %colors  %config  %connect_info  %cp  %debug  %dhist  %dirs  %doctest_mode  %ed  %edit  %env  %gui  %hist  %history  %killbgscripts  %ldir  %less  %lf  %lk  %ll  %load  %load_ext  %loadpy  %logoff  %logon  %logstart  %logstate  %logstop  %ls  %lsmagic  %lx  %macro  %magic  %man  %matplotlib  %mkdir  %more  %mv  %notebook  %page  %pastebin  %pdb  %pdef  %pdoc  %pfile  %pinfo  %pinfo2  %pip  %popd  %pprint  %precision  %profile  %prun  %psearch  %psource  %pushd  %pwd  %pycat  %pylab  %qtconsole  %quickref  %recall  %rehashx  %reload_ext  %rep  %rerun  %reset  %reset_selective  %rm  %rmdir  %run  %save  %sc  %set_env  %shell  %store  %sx  %system  %tb  %tensorflow_version  %time  %timeit  %unalias  %unload_ext  %who  %who_ls  %whos  %xdel  %xmode\n",
              "\n",
              "Available cell magics:\n",
              "%%!  %%HTML  %%SVG  %%bash  %%bigquery  %%capture  %%debug  %%file  %%html  %%javascript  %%js  %%latex  %%perl  %%prun  %%pypy  %%python  %%python2  %%python3  %%ruby  %%script  %%sh  %%shell  %%svg  %%sx  %%system  %%time  %%timeit  %%writefile\n",
              "\n",
              "Automagic is ON, % prefix IS NOT needed for line magics."
            ]
          },
          "metadata": {
            "tags": []
          },
          "execution_count": 41
        }
      ]
    },
    {
      "cell_type": "code",
      "metadata": {
        "colab": {
          "base_uri": "https://localhost:8080/",
          "height": 156
        },
        "id": "74u35S36-yQP",
        "outputId": "49b91474-8cfb-4788-869b-04cc8d281ffe"
      },
      "source": [
        "_25"
      ],
      "execution_count": 43,
      "outputs": [
        {
          "output_type": "execute_result",
          "data": {
            "application/json": {
              "cell": {
                "prun": "ExecutionMagics",
                "file": "Other",
                "!": "OSMagics",
                "capture": "ExecutionMagics",
                "timeit": "ExecutionMagics",
                "script": "ScriptMagics",
                "pypy": "Other",
                "system": "OSMagics",
                "perl": "Other",
                "html": "DisplayMagics",
                "bash": "Other",
                "shell": "Other",
                "HTML": "Other",
                "python": "Other",
                "SVG": "Other",
                "javascript": "DisplayMagics",
                "bigquery": "Other",
                "js": "DisplayMagics",
                "writefile": "OSMagics",
                "ruby": "Other",
                "python3": "Other",
                "python2": "Other",
                "latex": "DisplayMagics",
                "sx": "OSMagics",
                "svg": "DisplayMagics",
                "sh": "Other",
                "time": "ExecutionMagics",
                "debug": "ExecutionMagics"
              },
              "line": {
                "psource": "NamespaceMagics",
                "logstart": "LoggingMagics",
                "popd": "OSMagics",
                "tensorflow_version": "Other",
                "loadpy": "CodeMagics",
                "colors": "BasicMagics",
                "who_ls": "NamespaceMagics",
                "lf": "Other",
                "ll": "Other",
                "pprint": "BasicMagics",
                "lk": "Other",
                "ls": "Other",
                "save": "CodeMagics",
                "tb": "ExecutionMagics",
                "lx": "Other",
                "pylab": "PylabMagics",
                "killbgscripts": "ScriptMagics",
                "quickref": "BasicMagics",
                "magic": "BasicMagics",
                "dhist": "OSMagics",
                "edit": "KernelMagics",
                "logstop": "LoggingMagics",
                "gui": "BasicMagics",
                "prun": "ExecutionMagics",
                "debug": "ExecutionMagics",
                "page": "BasicMagics",
                "logstate": "LoggingMagics",
                "ed": "Other",
                "pushd": "OSMagics",
                "timeit": "ExecutionMagics",
                "set_env": "OSMagics",
                "rehashx": "OSMagics",
                "hist": "Other",
                "qtconsole": "KernelMagics",
                "rm": "Other",
                "dirs": "OSMagics",
                "run": "ExecutionMagics",
                "reset_selective": "NamespaceMagics",
                "pinfo2": "NamespaceMagics",
                "matplotlib": "PylabMagics",
                "unload_ext": "ExtensionMagics",
                "doctest_mode": "BasicMagics",
                "logoff": "LoggingMagics",
                "reload_ext": "ExtensionMagics",
                "pdb": "ExecutionMagics",
                "load": "CodeMagics",
                "lsmagic": "BasicMagics",
                "autosave": "KernelMagics",
                "cd": "OSMagics",
                "pastebin": "CodeMagics",
                "alias_magic": "BasicMagics",
                "cp": "Other",
                "autocall": "AutoMagics",
                "ldir": "Other",
                "bookmark": "OSMagics",
                "connect_info": "KernelMagics",
                "mkdir": "Other",
                "system": "OSMagics",
                "whos": "NamespaceMagics",
                "rmdir": "Other",
                "automagic": "AutoMagics",
                "store": "StoreMagics",
                "more": "KernelMagics",
                "shell": "Other",
                "pdef": "NamespaceMagics",
                "precision": "BasicMagics",
                "pinfo": "NamespaceMagics",
                "pwd": "OSMagics",
                "psearch": "NamespaceMagics",
                "reset": "NamespaceMagics",
                "recall": "HistoryMagics",
                "xdel": "NamespaceMagics",
                "xmode": "BasicMagics",
                "cat": "Other",
                "mv": "Other",
                "rerun": "HistoryMagics",
                "logon": "LoggingMagics",
                "history": "HistoryMagics",
                "pycat": "OSMagics",
                "pip": "Other",
                "unalias": "OSMagics",
                "env": "OSMagics",
                "load_ext": "ExtensionMagics",
                "config": "ConfigMagics",
                "profile": "BasicMagics",
                "pfile": "NamespaceMagics",
                "less": "KernelMagics",
                "who": "NamespaceMagics",
                "notebook": "BasicMagics",
                "man": "KernelMagics",
                "sx": "OSMagics",
                "macro": "ExecutionMagics",
                "clear": "KernelMagics",
                "alias": "OSMagics",
                "time": "ExecutionMagics",
                "sc": "OSMagics",
                "rep": "Other",
                "pdoc": "NamespaceMagics"
              }
            },
            "text/plain": [
              "Available line magics:\n",
              "%alias  %alias_magic  %autocall  %automagic  %autosave  %bookmark  %cat  %cd  %clear  %colors  %config  %connect_info  %cp  %debug  %dhist  %dirs  %doctest_mode  %ed  %edit  %env  %gui  %hist  %history  %killbgscripts  %ldir  %less  %lf  %lk  %ll  %load  %load_ext  %loadpy  %logoff  %logon  %logstart  %logstate  %logstop  %ls  %lsmagic  %lx  %macro  %magic  %man  %matplotlib  %mkdir  %more  %mv  %notebook  %page  %pastebin  %pdb  %pdef  %pdoc  %pfile  %pinfo  %pinfo2  %pip  %popd  %pprint  %precision  %profile  %prun  %psearch  %psource  %pushd  %pwd  %pycat  %pylab  %qtconsole  %quickref  %recall  %rehashx  %reload_ext  %rep  %rerun  %reset  %reset_selective  %rm  %rmdir  %run  %save  %sc  %set_env  %shell  %store  %sx  %system  %tb  %tensorflow_version  %time  %timeit  %unalias  %unload_ext  %who  %who_ls  %whos  %xdel  %xmode\n",
              "\n",
              "Available cell magics:\n",
              "%%!  %%HTML  %%SVG  %%bash  %%bigquery  %%capture  %%debug  %%file  %%html  %%javascript  %%js  %%latex  %%perl  %%prun  %%pypy  %%python  %%python2  %%python3  %%ruby  %%script  %%sh  %%shell  %%svg  %%sx  %%system  %%time  %%timeit  %%writefile\n",
              "\n",
              "Automagic is ON, % prefix IS NOT needed for line magics."
            ]
          },
          "metadata": {
            "tags": []
          },
          "execution_count": 43
        }
      ]
    },
    {
      "cell_type": "markdown",
      "metadata": {
        "id": "CBiYKrdS6YDl"
      },
      "source": [
        "3. Suppressing Output"
      ]
    },
    {
      "cell_type": "markdown",
      "metadata": {
        "id": "Ng_1HWWI-0xc"
      },
      "source": [
        "\n",
        "Cara termudah untuk menekan keluaran dari sebuah perintah adalah dengan menambahkan titik koma di akhir baris:"
      ]
    },
    {
      "cell_type": "code",
      "metadata": {
        "id": "pEwq6pnD_VZ5"
      },
      "source": [
        "math.sin(2) + math.cos(2);"
      ],
      "execution_count": 44,
      "outputs": []
    },
    {
      "cell_type": "markdown",
      "metadata": {
        "id": "ltIQqLBv63FG"
      },
      "source": [
        "Perhatikan bahwa hasilnya dihitung secara diam-diam, dan hasilnya tidak ditampilkan di layar atau disimpan di kamus Keluar:"
      ]
    },
    {
      "cell_type": "code",
      "metadata": {
        "colab": {
          "base_uri": "https://localhost:8080/"
        },
        "id": "RD6E_Vra_trG",
        "outputId": "fdc1639b-69f5-402a-c44b-7ee1f7fa5c31"
      },
      "source": [
        "43 in Out"
      ],
      "execution_count": 45,
      "outputs": [
        {
          "output_type": "execute_result",
          "data": {
            "text/plain": [
              "True"
            ]
          },
          "metadata": {
            "tags": []
          },
          "execution_count": 45
        }
      ]
    },
    {
      "cell_type": "markdown",
      "metadata": {
        "id": "3srtOUvBAA7_"
      },
      "source": [
        "4. Related Magic Commands"
      ]
    },
    {
      "cell_type": "markdown",
      "metadata": {
        "id": "uvJf4jb97EKe"
      },
      "source": [
        "Untuk mengakses sekumpulan input sebelumnya sekaligus, perintah magic% history sangat membantu. Berikut adalah cara mencetak empat masukan pertama:"
      ]
    },
    {
      "cell_type": "code",
      "metadata": {
        "colab": {
          "base_uri": "https://localhost:8080/"
        },
        "id": "U8-9Q_wfAO5Y",
        "outputId": "9ace3cbf-08ab-4df9-847d-ecfac587b849"
      },
      "source": [
        "%history -n 25-27"
      ],
      "execution_count": 46,
      "outputs": [
        {
          "output_type": "stream",
          "text": [
            "  25: %lsmagic\n",
            "  26: import math\n",
            "  27: math.sin(2)\n"
          ],
          "name": "stdout"
        }
      ]
    },
    {
      "cell_type": "markdown",
      "metadata": {
        "id": "rnERXg4c7PI2"
      },
      "source": [
        "# IPython and Shell Commands"
      ]
    },
    {
      "cell_type": "markdown",
      "metadata": {
        "id": "Hg8C-QMu7JNW"
      },
      "source": [
        "**1. Shell Commands in IPython**\n",
        "\n",
        "Kita dapat menggunakan perintah apa pun yang berfungsi pada baris perintah di IPython dengan mengawalnya\n",
        "dengan ! karakter. Misalnya, perintah ls, pwd, dan echo dapat dijalankan sebagai\n",
        "berikut: "
      ]
    },
    {
      "cell_type": "code",
      "metadata": {
        "colab": {
          "base_uri": "https://localhost:8080/"
        },
        "id": "ftJ3fU7MBvk-",
        "outputId": "79446847-914e-451e-b574-4e1dfda5611e"
      },
      "source": [
        "!ls"
      ],
      "execution_count": 47,
      "outputs": [
        {
          "output_type": "stream",
          "text": [
            "sample_data\n"
          ],
          "name": "stdout"
        }
      ]
    },
    {
      "cell_type": "code",
      "metadata": {
        "colab": {
          "base_uri": "https://localhost:8080/"
        },
        "id": "YT_Rf_LKCgP0",
        "outputId": "8b2588f5-199b-4741-c972-389319046f7e"
      },
      "source": [
        "!pwd"
      ],
      "execution_count": 48,
      "outputs": [
        {
          "output_type": "stream",
          "text": [
            "/content\n"
          ],
          "name": "stdout"
        }
      ]
    },
    {
      "cell_type": "code",
      "metadata": {
        "colab": {
          "base_uri": "https://localhost:8080/"
        },
        "id": "tPHDvjLFCjkK",
        "outputId": "262a4390-9258-4e55-982c-7eb7495d4fee"
      },
      "source": [
        "!echo \"printing from the shell\""
      ],
      "execution_count": 49,
      "outputs": [
        {
          "output_type": "stream",
          "text": [
            "printing from the shell\n"
          ],
          "name": "stdout"
        }
      ]
    },
    {
      "cell_type": "markdown",
      "metadata": {
        "id": "oMbXZZt1CqHl"
      },
      "source": [
        "**2. Passing Values to and from the Shell**\n",
        "\n",
        "Perintah shell tidak hanya dapat dipanggil dari IPython, tetapi juga dapat dibuat untuk\n",
        "bertindak dengan namespace IPython. Misalnya, Kita dapat menyimpan output dari shell apa pun\n",
        "perintah ke daftar Python menggunakan operator penugasan: "
      ]
    },
    {
      "cell_type": "code",
      "metadata": {
        "id": "JmVuVbo8DFaY"
      },
      "source": [
        "contents = !ls"
      ],
      "execution_count": 50,
      "outputs": []
    },
    {
      "cell_type": "code",
      "metadata": {
        "colab": {
          "base_uri": "https://localhost:8080/"
        },
        "id": "lHjAoOiFDJOv",
        "outputId": "c7fb7262-7be0-4dee-813d-d0e53d3ae5a2"
      },
      "source": [
        "print(contents)"
      ],
      "execution_count": 51,
      "outputs": [
        {
          "output_type": "stream",
          "text": [
            "['sample_data']\n"
          ],
          "name": "stdout"
        }
      ]
    },
    {
      "cell_type": "code",
      "metadata": {
        "id": "mMBXjO-sDMHS"
      },
      "source": [
        "directory = !pwd"
      ],
      "execution_count": 52,
      "outputs": []
    },
    {
      "cell_type": "code",
      "metadata": {
        "colab": {
          "base_uri": "https://localhost:8080/"
        },
        "id": "uRGw6V8vDOLz",
        "outputId": "37e6e5d0-c172-4dff-f660-1bd7df14e7ec"
      },
      "source": [
        "print(directory)"
      ],
      "execution_count": 53,
      "outputs": [
        {
          "output_type": "stream",
          "text": [
            "['/content']\n"
          ],
          "name": "stdout"
        }
      ]
    },
    {
      "cell_type": "markdown",
      "metadata": {
        "id": "7eK3J6bXDZW2"
      },
      "source": [
        "Perhatikan bahwa hasil tidak dikembalikan dalam bentuk daftar, tetapi dalam bentuk tipe pengembalian shell khusus didefinisikan oleh IPython:"
      ]
    },
    {
      "cell_type": "code",
      "metadata": {
        "colab": {
          "base_uri": "https://localhost:8080/"
        },
        "id": "nG_dll3wDhO-",
        "outputId": "85215a8c-4059-4cbb-ec7e-dc050f2a0ee9"
      },
      "source": [
        "type(directory)"
      ],
      "execution_count": 54,
      "outputs": [
        {
          "output_type": "execute_result",
          "data": {
            "text/plain": [
              "IPython.utils.text.SList"
            ]
          },
          "metadata": {
            "tags": []
          },
          "execution_count": 54
        }
      ]
    },
    {
      "cell_type": "markdown",
      "metadata": {
        "id": "JCLHko8cEklv"
      },
      "source": [
        "Fungsi lain seperti meneruskan variabel Python ke dalam shell melalui sintaks {varname}:"
      ]
    },
    {
      "cell_type": "code",
      "metadata": {
        "id": "09XWwO9JEtDA"
      },
      "source": [
        "message = \"hello from Python\""
      ],
      "execution_count": 55,
      "outputs": []
    },
    {
      "cell_type": "code",
      "metadata": {
        "colab": {
          "base_uri": "https://localhost:8080/"
        },
        "id": "gkLQu6NcExuR",
        "outputId": "8a72df6b-c710-4f9d-b297-ad6ab4eb2a03"
      },
      "source": [
        "!echo {message}"
      ],
      "execution_count": 56,
      "outputs": [
        {
          "output_type": "stream",
          "text": [
            "hello from Python\n"
          ],
          "name": "stdout"
        }
      ]
    },
    {
      "cell_type": "markdown",
      "metadata": {
        "id": "CzV5twg-FG3Y"
      },
      "source": [
        "**D. Shell-Related Magic Commands**\n",
        "\n",
        "Kita tidak bisa menggunakan ! untuk memanggil perintah cd, namun kita bisa menggunakan perintah %"
      ]
    },
    {
      "cell_type": "code",
      "metadata": {
        "colab": {
          "base_uri": "https://localhost:8080/"
        },
        "id": "dtvZUKP4FXh0",
        "outputId": "8551b46a-1819-49e4-b2d8-c68016d0df5a"
      },
      "source": [
        "!pwd"
      ],
      "execution_count": 57,
      "outputs": [
        {
          "output_type": "stream",
          "text": [
            "/content\n"
          ],
          "name": "stdout"
        }
      ]
    },
    {
      "cell_type": "code",
      "metadata": {
        "id": "HKcb1EHRFaUK"
      },
      "source": [
        "!cd "
      ],
      "execution_count": 58,
      "outputs": []
    },
    {
      "cell_type": "code",
      "metadata": {
        "colab": {
          "base_uri": "https://localhost:8080/"
        },
        "id": "AtWSDLe6Few_",
        "outputId": "12725e40-69f7-49e9-93c1-9bedc0af71a4"
      },
      "source": [
        "!pwd"
      ],
      "execution_count": 59,
      "outputs": [
        {
          "output_type": "stream",
          "text": [
            "/content\n"
          ],
          "name": "stdout"
        }
      ]
    },
    {
      "cell_type": "code",
      "metadata": {
        "colab": {
          "base_uri": "https://localhost:8080/"
        },
        "id": "6QtcMXfwFio7",
        "outputId": "e4fc3c07-a673-425a-9111-7479e80bc721"
      },
      "source": [
        "%cd "
      ],
      "execution_count": 60,
      "outputs": [
        {
          "output_type": "stream",
          "text": [
            "/root\n"
          ],
          "name": "stdout"
        }
      ]
    },
    {
      "cell_type": "markdown",
      "metadata": {
        "id": "iBZ0lABrFzIz"
      },
      "source": [
        "atau menjalakan tanpa tanda %"
      ]
    },
    {
      "cell_type": "code",
      "metadata": {
        "colab": {
          "base_uri": "https://localhost:8080/"
        },
        "id": "zD8EM_Q2FmVE",
        "outputId": "5fa54880-1e91-4eaf-d382-cdef0fe91f63"
      },
      "source": [
        "cd myproject"
      ],
      "execution_count": 61,
      "outputs": [
        {
          "output_type": "stream",
          "text": [
            "[Errno 2] No such file or directory: 'myproject'\n",
            "/root\n"
          ],
          "name": "stdout"
        }
      ]
    },
    {
      "cell_type": "markdown",
      "metadata": {
        "id": "eOltaGacF8pZ"
      },
      "source": [
        "Ini dikenal sebagai fungsi automagic, dan perilaku ini dapat diubah dengan fungsi %automagic.\n",
        "Selain% cd, fungsi ajaib seperti shell lainnya yang tersedia adalah %cat,%cp,%env, %ls, %man, %mkdir, %more, %mv, %pwd, %rm, dan %rmdir, yang mana saja dapat digunakan tanpa tanda % jika automagic aktif."
      ]
    },
    {
      "cell_type": "code",
      "metadata": {
        "id": "S-S1ApEwF8O3"
      },
      "source": [
        "mkdir tmp"
      ],
      "execution_count": 62,
      "outputs": []
    },
    {
      "cell_type": "code",
      "metadata": {
        "colab": {
          "base_uri": "https://localhost:8080/"
        },
        "id": "MJDVVtifGiBG",
        "outputId": "019bb54a-6fcf-4f66-912c-93f23eb2df9e"
      },
      "source": [
        "ls"
      ],
      "execution_count": 63,
      "outputs": [
        {
          "output_type": "stream",
          "text": [
            "\u001b[0m\u001b[01;34mtmp\u001b[0m/\n"
          ],
          "name": "stdout"
        }
      ]
    },
    {
      "cell_type": "code",
      "metadata": {
        "id": "XHGDcqIoGj6n",
        "colab": {
          "base_uri": "https://localhost:8080/"
        },
        "outputId": "ac54c3e5-d4e6-4f32-e049-eda35ff94602"
      },
      "source": [
        "cp myproject.txt tmp/"
      ],
      "execution_count": 64,
      "outputs": [
        {
          "output_type": "stream",
          "text": [
            "cp: cannot stat 'myproject.txt': No such file or directory\n"
          ],
          "name": "stdout"
        }
      ]
    },
    {
      "cell_type": "code",
      "metadata": {
        "id": "kL9GeNvrGocH"
      },
      "source": [
        "ls tmp"
      ],
      "execution_count": 65,
      "outputs": []
    },
    {
      "cell_type": "code",
      "metadata": {
        "id": "R_8XEGJNGtJs"
      },
      "source": [
        "rm -r tmp"
      ],
      "execution_count": 66,
      "outputs": []
    }
  ]
}
