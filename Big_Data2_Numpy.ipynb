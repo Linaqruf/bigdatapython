{
  "nbformat": 4,
  "nbformat_minor": 0,
  "metadata": {
    "colab": {
      "name": "Big Data2 Numpy.ipynb",
      "provenance": [],
      "authorship_tag": "ABX9TyOJcCbu8AVVjKqf7XmWkCKZ",
      "include_colab_link": true
    },
    "kernelspec": {
      "name": "python3",
      "display_name": "Python 3"
    },
    "language_info": {
      "name": "python"
    }
  },
  "cells": [
    {
      "cell_type": "markdown",
      "metadata": {
        "id": "view-in-github",
        "colab_type": "text"
      },
      "source": [
        "<a href=\"https://colab.research.google.com/github/Linaqruf/bigdatapython/blob/main/Big_Data2_Numpy.ipynb\" target=\"_parent\"><img src=\"https://colab.research.google.com/assets/colab-badge.svg\" alt=\"Open In Colab\"/></a>"
      ]
    },
    {
      "cell_type": "markdown",
      "metadata": {
        "id": "Itkq5OpqsYVt"
      },
      "source": [
        "\n",
        "\n",
        "---\n",
        "\n",
        "\n",
        "Nama : Furqanil Taqwa\n",
        "\n",
        "NIM  : 1711522013\n",
        "\n",
        "BIG DATA TUGAS 2\n",
        "\n",
        "\n",
        "---\n",
        "\n"
      ]
    },
    {
      "cell_type": "markdown",
      "metadata": {
        "id": "Pt-3_Az7mow3"
      },
      "source": [
        "## 1. Instalasi Numpy\n",
        "\n",
        "Link video: https://www.youtube.com/watch?v=C1mALgck6Lk&list=PLZS-MHyEIRo6V6C2PHEx2Lt0hWIB_cL58&index=1\n"
      ]
    },
    {
      "cell_type": "code",
      "metadata": {
        "id": "BTCI7EuKl8RE"
      },
      "source": [
        "pip list"
      ],
      "execution_count": null,
      "outputs": []
    },
    {
      "cell_type": "markdown",
      "metadata": {
        "id": "Bk_6sXlgmZma"
      },
      "source": [
        "Numpy sudah terinstall di Google Colab\n",
        "```\n",
        "numpy                         1.19.5\n",
        "```\n",
        "\n",
        "\n"
      ]
    },
    {
      "cell_type": "markdown",
      "metadata": {
        "id": "7otuYEeLnOAg"
      },
      "source": [
        "Memeriksa apakah Numpy sudah terinstall, variable a diisi array dari numpy, dan b diisi array python"
      ]
    },
    {
      "cell_type": "code",
      "metadata": {
        "id": "WKhBDsQYmnRp"
      },
      "source": [
        "import numpy as np\n",
        "a = np.array([1,2,3,4]) #array numpy\n",
        "b = [1,2,3,4]           #array python"
      ],
      "execution_count": 53,
      "outputs": []
    },
    {
      "cell_type": "code",
      "metadata": {
        "id": "MFCcYen5nK3V",
        "colab": {
          "base_uri": "https://localhost:8080/"
        },
        "outputId": "ad6deacc-3d1a-4ddf-876c-dc3191028500"
      },
      "source": [
        "a"
      ],
      "execution_count": 54,
      "outputs": [
        {
          "output_type": "execute_result",
          "data": {
            "text/plain": [
              "array([1, 2, 3, 4])"
            ]
          },
          "metadata": {
            "tags": []
          },
          "execution_count": 54
        }
      ]
    },
    {
      "cell_type": "code",
      "metadata": {
        "id": "MlrMl-ynnLUh",
        "colab": {
          "base_uri": "https://localhost:8080/"
        },
        "outputId": "80395c6e-e8b6-4c5b-ac56-7de6fbcd3687"
      },
      "source": [
        "b"
      ],
      "execution_count": 55,
      "outputs": [
        {
          "output_type": "execute_result",
          "data": {
            "text/plain": [
              "[1, 2, 3, 4]"
            ]
          },
          "metadata": {
            "tags": []
          },
          "execution_count": 55
        }
      ]
    },
    {
      "cell_type": "markdown",
      "metadata": {
        "id": "xCmcDpidnbhF"
      },
      "source": [
        "Jika diprint, maka perbedaannya:\n"
      ]
    },
    {
      "cell_type": "code",
      "metadata": {
        "id": "Q0Kp9UYrnMMF",
        "colab": {
          "base_uri": "https://localhost:8080/"
        },
        "outputId": "4b0ba532-548c-4424-e59a-d818fe38a2ee"
      },
      "source": [
        "print(a)"
      ],
      "execution_count": 56,
      "outputs": [
        {
          "output_type": "stream",
          "text": [
            "[1 2 3 4]\n"
          ],
          "name": "stdout"
        }
      ]
    },
    {
      "cell_type": "code",
      "metadata": {
        "id": "t9NiN_lenp87",
        "colab": {
          "base_uri": "https://localhost:8080/"
        },
        "outputId": "ba790e8c-20a6-44f9-91de-2127c9380584"
      },
      "source": [
        "print(b)"
      ],
      "execution_count": 57,
      "outputs": [
        {
          "output_type": "stream",
          "text": [
            "[1, 2, 3, 4]\n"
          ],
          "name": "stdout"
        }
      ]
    },
    {
      "cell_type": "markdown",
      "metadata": {
        "id": "qW-cNVsentvk"
      },
      "source": [
        "Perbedaan bila array ditambah +1"
      ]
    },
    {
      "cell_type": "code",
      "metadata": {
        "id": "_eXXm92Ync2-"
      },
      "source": [
        "a = a + 1\n",
        "b = b + [1]"
      ],
      "execution_count": 58,
      "outputs": []
    },
    {
      "cell_type": "code",
      "metadata": {
        "id": "otZwjgGLnv1B",
        "colab": {
          "base_uri": "https://localhost:8080/"
        },
        "outputId": "8b6f903a-9f01-4f8d-e0a7-73e7eb09478e"
      },
      "source": [
        "print(a)"
      ],
      "execution_count": 59,
      "outputs": [
        {
          "output_type": "stream",
          "text": [
            "[2 3 4 5]\n"
          ],
          "name": "stdout"
        }
      ]
    },
    {
      "cell_type": "code",
      "metadata": {
        "id": "j3zSMvFEn61B",
        "colab": {
          "base_uri": "https://localhost:8080/"
        },
        "outputId": "20d79a4c-c81d-43c4-fa8e-d5c954e6e4be"
      },
      "source": [
        "print(b)"
      ],
      "execution_count": 60,
      "outputs": [
        {
          "output_type": "stream",
          "text": [
            "[1, 2, 3, 4, 1]\n"
          ],
          "name": "stdout"
        }
      ]
    },
    {
      "cell_type": "markdown",
      "metadata": {
        "id": "4Am3Edo4oBx0"
      },
      "source": [
        "## 2. Membuat Numpy Array\n",
        "\n",
        "Link Video: https://www.youtube.com/watch?v=B-9lLVs5y-E&list=PLZS-MHyEIRo6V6C2PHEx2Lt0hWIB_cL58&index=2"
      ]
    },
    {
      "cell_type": "code",
      "metadata": {
        "id": "bUM0qt5ZoJgE"
      },
      "source": [
        "import numpy as np\n",
        "# membuat vector\n",
        "a = np.array([1,2,3,4,5])\n",
        "b = np.array([1.5, 2.5, 5, 6, 7])\n",
        "\n",
        "# membuat vector dengan range\n",
        "c = np.arange(1,10,1)\n",
        "# 1   = batas bawah\n",
        "# 10  = batas atas\n",
        "# 1   = loncatan\n",
        "\n",
        "# membuat linespace\n",
        "d = np.linspace(1,10,5)\n",
        "\n",
        "# array multidimensi/matrix\n",
        "e = np.array([ (1,2,3) , (4,5,6) ])\n",
        "\n",
        "# matrix dengan nilai 0\n",
        "f = np.zeros([5,5])\n",
        "\n",
        "# matrix dengan nilai 1\n",
        "g = np.ones([5,5])\n",
        "\n",
        "# matrix identitas\n",
        "h1 = np.identity(5)\n",
        "h2 = np.eye(5)"
      ],
      "execution_count": 61,
      "outputs": []
    },
    {
      "cell_type": "code",
      "metadata": {
        "id": "VcDd9ZgVoRjw",
        "colab": {
          "base_uri": "https://localhost:8080/"
        },
        "outputId": "e1aa5a50-4ee8-4eef-e921-6d3c1b90658f"
      },
      "source": [
        "# display\n",
        "print(a)\n",
        "print(b)\n",
        "print(c)\n",
        "print(d)\n",
        "print(e)\n",
        "print(f)\n",
        "print(g)\n",
        "print(h1)\n",
        "print(h2)"
      ],
      "execution_count": 62,
      "outputs": [
        {
          "output_type": "stream",
          "text": [
            "[1 2 3 4 5]\n",
            "[1.5 2.5 5.  6.  7. ]\n",
            "[1 2 3 4 5 6 7 8 9]\n",
            "[ 1.    3.25  5.5   7.75 10.  ]\n",
            "[[1 2 3]\n",
            " [4 5 6]]\n",
            "[[0. 0. 0. 0. 0.]\n",
            " [0. 0. 0. 0. 0.]\n",
            " [0. 0. 0. 0. 0.]\n",
            " [0. 0. 0. 0. 0.]\n",
            " [0. 0. 0. 0. 0.]]\n",
            "[[1. 1. 1. 1. 1.]\n",
            " [1. 1. 1. 1. 1.]\n",
            " [1. 1. 1. 1. 1.]\n",
            " [1. 1. 1. 1. 1.]\n",
            " [1. 1. 1. 1. 1.]]\n",
            "[[1. 0. 0. 0. 0.]\n",
            " [0. 1. 0. 0. 0.]\n",
            " [0. 0. 1. 0. 0.]\n",
            " [0. 0. 0. 1. 0.]\n",
            " [0. 0. 0. 0. 1.]]\n",
            "[[1. 0. 0. 0. 0.]\n",
            " [0. 1. 0. 0. 0.]\n",
            " [0. 0. 1. 0. 0.]\n",
            " [0. 0. 0. 1. 0.]\n",
            " [0. 0. 0. 0. 1.]]\n"
          ],
          "name": "stdout"
        }
      ]
    },
    {
      "cell_type": "markdown",
      "metadata": {
        "id": "RV10ZeZiu8Cy"
      },
      "source": [
        "## 3. Operasi Aritmatika\n",
        "\n",
        "Link Video:https://www.youtube.com/watch?v=GCZAlkDRQS4&list=PLZS-MHyEIRo6V6C2PHEx2Lt0hWIB_cL58&index=3"
      ]
    },
    {
      "cell_type": "code",
      "metadata": {
        "colab": {
          "base_uri": "https://localhost:8080/"
        },
        "id": "k8ywtk67vA-8",
        "outputId": "0601286d-97c0-46ab-f8ff-81af93aa9213"
      },
      "source": [
        "import numpy as np\n",
        "\n",
        "# list python\n",
        "a = [1,2,3,4,5]\n",
        "b = [6,7,8,9,10]\n",
        "\n",
        "# array numpy\n",
        "anp = np.array([1,2,3,4,5])\n",
        "bnp = np.array([6,7,8,9,10])\n",
        "\n",
        "# ELEMENT-WISE OPERATION\n",
        "# penjumlahan\n",
        "hasil1 = a+b    # listnya ditambahkan\n",
        "hasil2 = anp+bnp# isi listnya ditambahkan\n",
        "\n",
        "# pengurangan\n",
        "# hasil1 = a-b    # list tidak bisa dikurangi dengan list\n",
        "hasil2 = anp-bnp# isi listnya ditambahkan\n",
        "\n",
        "# perkalian\n",
        "# hasil1 = a*b    # list tidak bisa dikali dengan list\n",
        "hasil2 = anp*bnp # isi listnya ditambahkan\n",
        "\n",
        "# pembagian\n",
        "# hasil1 = a/b    # list tidak bisa dibagi dengan list\n",
        "hasil2 = anp/bnp # isi listnya ditambahkan\n",
        "\n",
        "# kuadrat\n",
        "hasil2 = anp**2\n",
        "\n",
        "print(hasil1)\n",
        "print(hasil2)"
      ],
      "execution_count": 63,
      "outputs": [
        {
          "output_type": "stream",
          "text": [
            "[1, 2, 3, 4, 5, 6, 7, 8, 9, 10]\n",
            "[ 1  4  9 16 25]\n"
          ],
          "name": "stdout"
        }
      ]
    },
    {
      "cell_type": "code",
      "metadata": {
        "colab": {
          "base_uri": "https://localhost:8080/"
        },
        "id": "TyRKahEzytCA",
        "outputId": "aba421e0-610d-4eb7-af8e-ee5cbcf110a0"
      },
      "source": [
        "# MULTI-DIMENSION ARRAY NUMPY\n",
        "c = np.array(([1,2,3],[4,5,6]))\n",
        "d = np.array(([7,8,9],[-1,-2,-3]))\n",
        "\n",
        "hasil = c + d\n",
        "hasil = c * d \n",
        "\n",
        "print(hasil)"
      ],
      "execution_count": 64,
      "outputs": [
        {
          "output_type": "stream",
          "text": [
            "[[  7  16  27]\n",
            " [ -4 -10 -18]]\n"
          ],
          "name": "stdout"
        }
      ]
    },
    {
      "cell_type": "code",
      "metadata": {
        "id": "5lLsPFw00c6q"
      },
      "source": [
        ""
      ],
      "execution_count": 64,
      "outputs": []
    },
    {
      "cell_type": "markdown",
      "metadata": {
        "id": "OVTmuMe57jxk"
      },
      "source": [
        "## 4. Indexing, Slicing, dan Iterasi\n",
        "\n",
        "Link Video : https://www.youtube.com/watch?v=o-RXBGr05kY&list=PLZS-MHyEIRo6V6C2PHEx2Lt0hWIB_cL58&index=4"
      ]
    },
    {
      "cell_type": "code",
      "metadata": {
        "colab": {
          "base_uri": "https://localhost:8080/"
        },
        "id": "1P_pPBxF7oWZ",
        "outputId": "868e21fb-b6fd-490f-f47d-4f0f394de069"
      },
      "source": [
        "import numpy as np\n",
        "\n",
        "a = np.arange(10)**2\n",
        "\n",
        "print(a)\n",
        "\n",
        "# mengambil nilai\n",
        "print('elemen ke 1 dari a adalah', a[0])\n",
        "print('elemen ke 7 dari a adalah', a[6])\n",
        "print('elemen ke akhir dari a adalah', a[-1]) # mengambil paling akhir\n",
        "\n",
        "# slicing / memotong nilai\n",
        "print('elemen dari 1-6 adalah', a[0:5]) #[start, end]\n",
        "print('elemen dari 4 sampai akhir', a[3:])\n",
        "print('elemen dari awal sampai 5', a[:5])\n",
        "\n",
        "# iterasi\n",
        "for i in a :\n",
        "  print('value =', i)"
      ],
      "execution_count": 65,
      "outputs": [
        {
          "output_type": "stream",
          "text": [
            "[ 0  1  4  9 16 25 36 49 64 81]\n",
            "elemen ke 1 dari a adalah 0\n",
            "elemen ke 7 dari a adalah 36\n",
            "elemen ke akhir dari a adalah 81\n",
            "elemen dari 1-6 adalah [ 0  1  4  9 16]\n",
            "elemen dari 4 sampai akhir [ 9 16 25 36 49 64 81]\n",
            "elemen dari awal sampai 5 [ 0  1  4  9 16]\n",
            "value = 0\n",
            "value = 1\n",
            "value = 4\n",
            "value = 9\n",
            "value = 16\n",
            "value = 25\n",
            "value = 36\n",
            "value = 49\n",
            "value = 64\n",
            "value = 81\n"
          ],
          "name": "stdout"
        }
      ]
    },
    {
      "cell_type": "code",
      "metadata": {
        "id": "rgjpNdXb74l-"
      },
      "source": [
        ""
      ],
      "execution_count": 65,
      "outputs": []
    },
    {
      "cell_type": "markdown",
      "metadata": {
        "id": "2zdyZqPL9B-8"
      },
      "source": [
        "# 5. Perkalian Matrix\n",
        "\n",
        "Link Video : \n",
        "https://www.youtube.com/watch?v=z6xfiHUuWWQ&list=PLZS-MHyEIRo6V6C2PHEx2Lt0hWIB_cL58&index=5"
      ]
    },
    {
      "cell_type": "code",
      "metadata": {
        "colab": {
          "base_uri": "https://localhost:8080/"
        },
        "id": "Z-OxO1Es9E1f",
        "outputId": "f6b9872a-0c4b-4c3b-8364-ac85f335c3e4"
      },
      "source": [
        "import numpy as np\n",
        "\n",
        "a = np.array(([1,2],\n",
        "              [3,4]))\n",
        "b = np.ones([2,2])\n",
        "\n",
        "print(\"matrix a:\")\n",
        "print(a)\n",
        "\n",
        "print(\"matrix b:\")\n",
        "print(b)\n",
        "\n",
        "# perkalian matrix\n",
        "c1 = np.dot(a,b)\n",
        "c2 = a.dot(b)\n",
        "\n",
        "print(\"matrix c1:\")\n",
        "print(c1)\n",
        "print(\"matrix c2:\")\n",
        "print(c2)\n"
      ],
      "execution_count": 66,
      "outputs": [
        {
          "output_type": "stream",
          "text": [
            "matrix a:\n",
            "[[1 2]\n",
            " [3 4]]\n",
            "matrix b:\n",
            "[[1. 1.]\n",
            " [1. 1.]]\n",
            "matrix c1:\n",
            "[[3. 3.]\n",
            " [7. 7.]]\n",
            "matrix c2:\n",
            "[[3. 3.]\n",
            " [7. 7.]]\n"
          ],
          "name": "stdout"
        }
      ]
    },
    {
      "cell_type": "code",
      "metadata": {
        "colab": {
          "base_uri": "https://localhost:8080/"
        },
        "id": "jtg98EgR98oi",
        "outputId": "412c9f86-c710-47e1-ea0e-cc293d31f641"
      },
      "source": [
        "a = np.array(([1,2,3],\n",
        "              [4,5,6]))\n",
        "b = np.ones([3,3])\n",
        "\n",
        "c = np.dot(a,b)\n",
        "\n",
        "print(\"matrix c:\")\n",
        "print(c)\n",
        "\n"
      ],
      "execution_count": 67,
      "outputs": [
        {
          "output_type": "stream",
          "text": [
            "matrix c:\n",
            "[[ 6.  6.  6.]\n",
            " [15. 15. 15.]]\n"
          ],
          "name": "stdout"
        }
      ]
    },
    {
      "cell_type": "markdown",
      "metadata": {
        "id": "_kzwZ1eR_nS5"
      },
      "source": [
        "# 6. Manipulasi Matrix\n",
        "Link Video : https://www.youtube.com/watch?v=rpk2_9b5TUY&list=PLZS-MHyEIRo6V6C2PHEx2Lt0hWIB_cL58&index=6"
      ]
    },
    {
      "cell_type": "code",
      "metadata": {
        "id": "mBpgs9cl_tZG",
        "colab": {
          "base_uri": "https://localhost:8080/"
        },
        "outputId": "ec1e8a72-5d1a-41cc-a30b-655bf4d07c1c"
      },
      "source": [
        "import numpy as np \n",
        "\n",
        "a = np.array(([1,2,3],\n",
        "              [4,5,6]))\n",
        "\n",
        "print(\"matrix a dengan ukuran:\", a.shape)\n",
        "print(a)\n",
        "\n",
        "# transpose matrix\n",
        "print(\"transpose matrix dari a:\")\n",
        "print(a.transpose())\n",
        "print(np.transpose(a)) # cara lain\n",
        "print(a.T) # get and setter\n",
        "#a tidak berubah meskipun transpose dilakukan\n",
        "\n",
        "# flatten array, vector baris\n",
        "print(\"flatten matrix a:\")\n",
        "print(a.ravel())\n",
        "print(np.ravel(a)) # cara lain\n",
        "\n",
        "# reshape\n",
        "print(\"reshape matrix a: \")\n",
        "print(a.reshape(6,1))\n",
        "\n",
        "# resize\n",
        "print(\"resize matrix a: \")\n",
        "a.resize(3,2)\n",
        "print(a) # ukuran a berubah\n",
        "\n",
        "# hasil resize\n",
        "print(\"matrix a sekarang ukurannya:\", a.shape)"
      ],
      "execution_count": 68,
      "outputs": [
        {
          "output_type": "stream",
          "text": [
            "matrix a dengan ukuran: (2, 3)\n",
            "[[1 2 3]\n",
            " [4 5 6]]\n",
            "transpose matrix dari a:\n",
            "[[1 4]\n",
            " [2 5]\n",
            " [3 6]]\n",
            "[[1 4]\n",
            " [2 5]\n",
            " [3 6]]\n",
            "[[1 4]\n",
            " [2 5]\n",
            " [3 6]]\n",
            "flatten matrix a:\n",
            "[1 2 3 4 5 6]\n",
            "[1 2 3 4 5 6]\n",
            "reshape matrix a: \n",
            "[[1]\n",
            " [2]\n",
            " [3]\n",
            " [4]\n",
            " [5]\n",
            " [6]]\n",
            "resize matrix a: \n",
            "[[1 2]\n",
            " [3 4]\n",
            " [5 6]]\n",
            "matrix a sekarang ukurannya: (3, 2)\n"
          ],
          "name": "stdout"
        }
      ]
    },
    {
      "cell_type": "markdown",
      "metadata": {
        "id": "82_AE2JkFzTd"
      },
      "source": [
        "# 7. Stacking Matrix\n",
        "\n",
        "Link Video: https://www.youtube.com/watch?v=hF3_LurS6_Y&list=PLZS-MHyEIRo6V6C2PHEx2Lt0hWIB_cL58&index=7"
      ]
    },
    {
      "cell_type": "code",
      "metadata": {
        "colab": {
          "base_uri": "https://localhost:8080/"
        },
        "id": "3GbL1m6wF_l_",
        "outputId": "62bec767-f07b-42e2-a394-a653f9f9e7d8"
      },
      "source": [
        "import numpy as np\n",
        "a = np.array([1,2,3])\n",
        "b = np.array([4,5,6])\n",
        "\n",
        "aMat = np.zeros((2,2))\n",
        "bMat = np.ones((2,2))\n",
        "\n",
        "# stacking matrix, menumpuk matrix\n",
        "c = np.hstack((a,b)) #depannya a, belakangnya b\n",
        "d = np.vstack((a,b))\n",
        "print(c)\n",
        "print(d)\n",
        "\n",
        "cMat = np.hstack((aMat,bMat))\n",
        "dMat = np.vstack((aMat,bMat))\n",
        "print(cMat)\n",
        "print(dMat)"
      ],
      "execution_count": 69,
      "outputs": [
        {
          "output_type": "stream",
          "text": [
            "[1 2 3 4 5 6]\n",
            "[[1 2 3]\n",
            " [4 5 6]]\n",
            "[[0. 0. 1. 1.]\n",
            " [0. 0. 1. 1.]]\n",
            "[[0. 0.]\n",
            " [0. 0.]\n",
            " [1. 1.]\n",
            " [1. 1.]]\n"
          ],
          "name": "stdout"
        }
      ]
    },
    {
      "cell_type": "markdown",
      "metadata": {
        "id": "JW70JPq1HkxA"
      },
      "source": [
        "# 8. Cara Advance Membuat Array\n",
        "\n",
        "Link Video: https://www.youtube.com/watch?v=Sa0a1G71MBA&list=PLZS-MHyEIRo6V6C2PHEx2Lt0hWIB_cL58&index=8\n"
      ]
    },
    {
      "cell_type": "code",
      "metadata": {
        "colab": {
          "base_uri": "https://localhost:8080/"
        },
        "id": "yvVd4EwbHtVf",
        "outputId": "c09e5f68-b0f1-4a21-cdc3-c90a15b02c3c"
      },
      "source": [
        "import numpy as np\n",
        "\n",
        "# membuat matrix dengan tipe data tertentu\n",
        "a = np.array(([1,2,3],[3,4,5]), dtype = float)\n",
        "\n",
        "# membuat array dengan menggunakan function\n",
        "def kuadrat(baris, kolom):\n",
        "  return kolom**2\n",
        "\n",
        "def jumlah(baris, kolom):\n",
        "  return (kolom + baris)\n",
        "\n",
        "b = np.fromfunction(kuadrat, (1,10), dtype = int)\n",
        "c = np.fromfunction(jumlah, (4,4), dtype = float)\n",
        "\n",
        "# membuat array atau matrix dengan menggunakan iterable\n",
        "iterable = (x*x for x in range (5))\n",
        "\n",
        "d= np.fromiter(iterable, dtype = int)\n",
        "\n",
        "# multitype array\n",
        "dtipe = [('nama','S255'),('tinggi', int)]\n",
        "data    = [\n",
        "           ('ucup', 150),\n",
        "           ('otong', 160),\n",
        "           ('mario', 180)\n",
        "]\n",
        "\n",
        "e = np.array(data, dtype = dtipe)\n",
        "print(a)\n",
        "print(b)\n",
        "print(c)\n",
        "print(d)\n",
        "print(e)"
      ],
      "execution_count": 70,
      "outputs": [
        {
          "output_type": "stream",
          "text": [
            "[[1. 2. 3.]\n",
            " [3. 4. 5.]]\n",
            "[[ 0  1  4  9 16 25 36 49 64 81]]\n",
            "[[0. 1. 2. 3.]\n",
            " [1. 2. 3. 4.]\n",
            " [2. 3. 4. 5.]\n",
            " [3. 4. 5. 6.]]\n",
            "[ 0  1  4  9 16]\n",
            "[(b'ucup', 150) (b'otong', 160) (b'mario', 180)]\n"
          ],
          "name": "stdout"
        }
      ]
    },
    {
      "cell_type": "markdown",
      "metadata": {
        "id": "EQ7f8aZJMjx7"
      },
      "source": [
        "# 9. Sorting Array NumPy\n",
        "\n",
        "Link Video: https://www.youtube.com/watch?v=93leimYGXOs&list=PLZS-MHyEIRo6V6C2PHEx2Lt0hWIB_cL58&index=9\n"
      ]
    },
    {
      "cell_type": "code",
      "metadata": {
        "id": "HAEcTNycM5pX",
        "colab": {
          "base_uri": "https://localhost:8080/"
        },
        "outputId": "75dc7577-61a1-4a8a-dfab-8dbb9a60a4d6"
      },
      "source": [
        "import numpy as np\n",
        "\n",
        "a = np.floor(np.random.randn(1,6)*10)\n",
        "\n",
        "print(a)\n",
        "# mengambil nilai max\n",
        "print('nilai max dari a =', a.max())\n",
        "# mengambil posisi nilai max\n",
        "print('posisi max dari a =', a.argmax())\n",
        "# mengambil nilai min\n",
        "print('nilai min dari a =', a.min())\n",
        "# mengambil posisi nilai min\n",
        "print('posisi min dari a =', a.argmin())\n",
        "\n",
        "print('mengurutkan nilai')\n",
        "print(np.sort(a))\n",
        "print(np.argsort(a))"
      ],
      "execution_count": 71,
      "outputs": [
        {
          "output_type": "stream",
          "text": [
            "[[ 3.  1.  3. 14.  3. -9.]]\n",
            "nilai max dari a = 14.0\n",
            "posisi max dari a = 3\n",
            "nilai min dari a = -9.0\n",
            "posisi min dari a = 5\n",
            "mengurutkan nilai\n",
            "[[-9.  1.  3.  3.  3. 14.]]\n",
            "[[5 1 0 2 4 3]]\n"
          ],
          "name": "stdout"
        }
      ]
    },
    {
      "cell_type": "code",
      "metadata": {
        "colab": {
          "base_uri": "https://localhost:8080/"
        },
        "id": "8AwaEGvsT3_X",
        "outputId": "9f2c57eb-5ccc-4968-8477-a06de276dc00"
      },
      "source": [
        "import numpy as np\n",
        "\n",
        "a = np.floor(np.random.randn(2,2)*10)\n",
        "\n",
        "print(a)\n",
        "# mengambil nilai max\n",
        "print('nilai max dari a =', a.max())\n",
        "# mengambil posisi nilai max\n",
        "print('posisi max dari a =', a.argmax())\n",
        "# mengambil nilai min\n",
        "print('nilai min dari a =', a.min())\n",
        "# mengambil posisi nilai min\n",
        "print('posisi min dari a =', a.argmin())\n",
        "\n",
        "print('mengurutkan nilai')\n",
        "print(np.sort(a))\n",
        "print(np.argsort(a))"
      ],
      "execution_count": 72,
      "outputs": [
        {
          "output_type": "stream",
          "text": [
            "[[ -3.  12.]\n",
            " [ 16. -10.]]\n",
            "nilai max dari a = 16.0\n",
            "posisi max dari a = 2\n",
            "nilai min dari a = -10.0\n",
            "posisi min dari a = 3\n",
            "mengurutkan nilai\n",
            "[[ -3.  12.]\n",
            " [-10.  16.]]\n",
            "[[0 1]\n",
            " [1 0]]\n"
          ],
          "name": "stdout"
        }
      ]
    },
    {
      "cell_type": "code",
      "metadata": {
        "colab": {
          "base_uri": "https://localhost:8080/"
        },
        "id": "ofj1BThRV3px",
        "outputId": "c867141d-2e03-49f5-9d2f-9df498f6d6bd"
      },
      "source": [
        "import numpy as np\n",
        "\n",
        "dtipe = [('nama','S10'),('tinggi', int)]\n",
        "data    = [\n",
        "           ('ucup', 170),\n",
        "           ('otong', 150),\n",
        "           ('mario', 160)\n",
        "]\n",
        "\n",
        "a = np.array(data, dtype = dtipe)\n",
        "print(a)\n",
        "\n",
        "print(np.sort(a, order='tinggi'))\n",
        "print(np.sort(a, order='nama'))"
      ],
      "execution_count": 73,
      "outputs": [
        {
          "output_type": "stream",
          "text": [
            "[(b'ucup', 170) (b'otong', 150) (b'mario', 160)]\n",
            "[(b'otong', 150) (b'mario', 160) (b'ucup', 170)]\n",
            "[(b'mario', 160) (b'otong', 150) (b'ucup', 170)]\n"
          ],
          "name": "stdout"
        }
      ]
    },
    {
      "cell_type": "markdown",
      "metadata": {
        "id": "V-tYO54_XEpO"
      },
      "source": [
        "# 10. Perkalian Vektor (dot dan cross)\n",
        "\n",
        "Link Video: https://www.youtube.com/watch?v=taHnC0WHXB8&list=PLZS-MHyEIRo6V6C2PHEx2Lt0hWIB_cL58&index=10"
      ]
    },
    {
      "cell_type": "code",
      "metadata": {
        "colab": {
          "base_uri": "https://localhost:8080/"
        },
        "id": "J0Noc74JXO4S",
        "outputId": "0d1a0a44-ce66-4410-e4c7-361ed15b7d2a"
      },
      "source": [
        "import numpy as np\n",
        "\n",
        "a = np.array([1,3])\n",
        "b = np.array([3,0])\n",
        "\n",
        "#perkalian dot\n",
        "c = np.dot(a,b)\n",
        "\n",
        "#perkalian cross\n",
        "a2 = np.array([1,2,0])\n",
        "b2 = np.array([2,1,0])\n",
        "\n",
        "c2 = np.cross(a2,b2)\n",
        "c3 = np.cross(b2,a2)\n",
        "\n",
        "print(c)\n",
        "print(c2)\n",
        "print(c3)\n"
      ],
      "execution_count": 74,
      "outputs": [
        {
          "output_type": "stream",
          "text": [
            "3\n",
            "[ 0  0 -3]\n",
            "[0 0 3]\n"
          ],
          "name": "stdout"
        }
      ]
    },
    {
      "cell_type": "code",
      "metadata": {
        "id": "-8O8WbEdYH9U"
      },
      "source": [
        ""
      ],
      "execution_count": 74,
      "outputs": []
    },
    {
      "cell_type": "markdown",
      "metadata": {
        "id": "og-bK8YyZwhA"
      },
      "source": [
        "# 11. Invers dan Determinan\n",
        "\n",
        "Link Video : https://www.youtube.com/watch?v=gMQwec7NBVY&list=PLZS-MHyEIRo6V6C2PHEx2Lt0hWIB_cL58&index=11"
      ]
    },
    {
      "cell_type": "code",
      "metadata": {
        "colab": {
          "base_uri": "https://localhost:8080/"
        },
        "id": "BVsgLRD1Z1nX",
        "outputId": "4ab758ef-6f4b-403c-9fb5-c32da403bd67"
      },
      "source": [
        "import numpy as np\n",
        "\n",
        "a = np.array([(1,-1),(1,1)])\n",
        "\n",
        "print(a)\n",
        "\n",
        "# inverse matrix\n",
        "a_inv = np.linalg.inv(a) # sub class linear algebra\n",
        "\n",
        "print(a_inv)\n",
        "print(np.dot(a,a_inv))\n",
        "\n",
        "# determinan matrix\n",
        "det_a = np.linalg.det(a)\n",
        "det_a_inv = np.linalg.det(a_inv)\n",
        "\n",
        "print(det_a)\n",
        "print(det_a_inv)\n",
        "\n",
        "# bisa menyelesaikan persamaan linear"
      ],
      "execution_count": 75,
      "outputs": [
        {
          "output_type": "stream",
          "text": [
            "[[ 1 -1]\n",
            " [ 1  1]]\n",
            "[[ 0.5  0.5]\n",
            " [-0.5  0.5]]\n",
            "[[1. 0.]\n",
            " [0. 1.]]\n",
            "2.0\n",
            "0.5\n"
          ],
          "name": "stdout"
        }
      ]
    },
    {
      "cell_type": "markdown",
      "metadata": {
        "id": "b5Fl4k9dbCZD"
      },
      "source": [
        "# 12. Solusi Persamaan Linear\n",
        "\n",
        "Link Video : https://www.youtube.com/watch?v=6cfuKThXoVc&list=PLZS-MHyEIRo6V6C2PHEx2Lt0hWIB_cL58&index=12"
      ]
    },
    {
      "cell_type": "code",
      "metadata": {
        "colab": {
          "base_uri": "https://localhost:8080/"
        },
        "id": "wpnT5aX5aDEK",
        "outputId": "3ed24179-aea5-462c-951c-fe7a541b4f1e"
      },
      "source": [
        "import numpy as np\n",
        "\n",
        "a = np.array ([(2,3),(1,2)])\n",
        "y = np.array ([23,14])\n",
        "\n",
        "print(a)\n",
        "print(y)\n",
        "\n",
        "# mencari x\n",
        "a_inv = np.linalg.inv(a)\n",
        "\n",
        "# menyelesaikan persamaan linear\n",
        "x1 = np.dot(a_inv,y)\n",
        "\n",
        "print(x1)\n",
        "\n",
        "# cara lain\n",
        "x2 = np.linalg.solve(a,y)\n",
        "\n",
        "print(x2)"
      ],
      "execution_count": 76,
      "outputs": [
        {
          "output_type": "stream",
          "text": [
            "[[2 3]\n",
            " [1 2]]\n",
            "[23 14]\n",
            "[4. 5.]\n",
            "[4. 5.]\n"
          ],
          "name": "stdout"
        }
      ]
    },
    {
      "cell_type": "markdown",
      "metadata": {
        "id": "64SCHnwScHGz"
      },
      "source": [
        "# 13. Plot Data dengan Matplotlib\n",
        "\n",
        "Link Video : https://www.youtube.com/watch?v=qA4Xz63hyqc&list=PLZS-MHyEIRo6V6C2PHEx2Lt0hWIB_cL58&index=13\n"
      ]
    },
    {
      "cell_type": "code",
      "metadata": {
        "id": "pDqAfOxqbbMF"
      },
      "source": [
        "pip list"
      ],
      "execution_count": null,
      "outputs": []
    },
    {
      "cell_type": "markdown",
      "metadata": {
        "id": "5p0AQWdacW4q"
      },
      "source": [
        "Matplotlib sudah terinstal di Google Colab\n",
        "\n",
        "```\n",
        "matplotlib                    3.2.2 \n",
        "```\n",
        "\n"
      ]
    },
    {
      "cell_type": "code",
      "metadata": {
        "colab": {
          "base_uri": "https://localhost:8080/",
          "height": 547
        },
        "id": "8uVc2Fhucs7r",
        "outputId": "8c805b45-abbd-4908-d264-afb741330d7a"
      },
      "source": [
        "import numpy as np\n",
        "import matplotlib.pyplot as plt\n",
        "\n",
        "# persamaan garis\n",
        "# y = 2x + 3\n",
        "\n",
        "x = np.arange(0,11,1)\n",
        "y = 2*x + 3\n",
        "\n",
        "print(x)\n",
        "print(y)\n",
        "\n",
        "plt.figure(1)\n",
        "plt.plot(x,y)\n",
        "\n",
        "# lingkaran\n",
        "\n",
        "jari2 = 5\n",
        "sudut = np.linspace(0,2*np.pi,100)\n",
        "\n",
        "plt.figure(2)\n",
        "x2 = jari2*np.cos(sudut)\n",
        "y2 = jari2*np.sin(sudut)\n",
        "\n",
        "plt.plot(x2,y2)\n",
        "plt.show()\n",
        "\n"
      ],
      "execution_count": 78,
      "outputs": [
        {
          "output_type": "stream",
          "text": [
            "[ 0  1  2  3  4  5  6  7  8  9 10]\n",
            "[ 3  5  7  9 11 13 15 17 19 21 23]\n"
          ],
          "name": "stdout"
        },
        {
          "output_type": "display_data",
          "data": {
            "image/png": "[encoded data removed]",
            "text/plain": [
              "<Figure size 432x288 with 1 Axes>"
            ]
          },
          "metadata": {
            "tags": [],
            "needs_background": "light"
          }
        },
        {
          "output_type": "display_data",
          "data": {
            "image/png": "[encoded data removed]",
            "text/plain": [
              "<Figure size 432x288 with 1 Axes>"
            ]
          },
          "metadata": {
            "tags": [],
            "needs_background": "light"
          }
        }
      ]
    },
    {
      "cell_type": "code",
      "metadata": {
        "id": "hjLRkAELc4bT"
      },
      "source": [
        ""
      ],
      "execution_count": 78,
      "outputs": []
    }
  ]
}